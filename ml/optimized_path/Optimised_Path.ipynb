{
  "nbformat": 4,
  "nbformat_minor": 0,
  "metadata": {
    "colab": {
      "name": "Optimised Path.ipynb",
      "provenance": []
    },
    "kernelspec": {
      "name": "python3",
      "display_name": "Python 3"
    }
  },
  "cells": [
    {
      "cell_type": "code",
      "metadata": {
        "id": "aG9GL1weXDC9"
      },
      "source": [
        "import itertools\n",
        "from scipy import misc\n",
        "import scipy.misc\n",
        "import imageio\n",
        "from scipy.sparse.dok import dok_matrix\n",
        "from scipy.sparse.csgraph import dijkstra"
      ],
      "execution_count": 6,
      "outputs": []
    },
    {
      "cell_type": "code",
      "metadata": {
        "id": "oaA_-IAVXHjs"
      },
      "source": [
        "\n",
        "# Load the image from disk as a numpy ndarray\n",
        "original_img = imageio.imread('bY8cN.png')\n"
      ],
      "execution_count": 8,
      "outputs": []
    },
    {
      "cell_type": "code",
      "metadata": {
        "id": "BJDX4m1vXcVZ"
      },
      "source": [
        "# Create a flat color image for graph building:\n",
        "img = original_img[:, :, 0] + original_img[:, :, 1] + original_img[:, :, 2]"
      ],
      "execution_count": 9,
      "outputs": []
    },
    {
      "cell_type": "code",
      "metadata": {
        "id": "Wt_f6yNYX322"
      },
      "source": [
        "# Defines a translation from 2 coordinates to a single number\n",
        "def to_index(y, x):\n",
        "    return y * img.shape[1] + x"
      ],
      "execution_count": 14,
      "outputs": []
    },
    {
      "cell_type": "code",
      "metadata": {
        "id": "-I1cj4deX6SA"
      },
      "source": [
        "\n",
        "# Defines a reversed translation from index to 2 coordinates\n",
        "def to_coordinates(index):\n",
        "    return index // img.shape[1], index % img.shape[1]"
      ],
      "execution_count": 23,
      "outputs": []
    },
    {
      "cell_type": "code",
      "metadata": {
        "id": "7exGToXLX8Yr"
      },
      "source": [
        "# A sparse adjacency matrix.\n",
        "# Two pixels are adjacent in the graph if both are painted.\n",
        "adjacency = dok_matrix((img.shape[0] * img.shape[1],\n",
        "                        img.shape[0] * img.shape[1]), dtype=bool)"
      ],
      "execution_count": 24,
      "outputs": []
    },
    {
      "cell_type": "code",
      "metadata": {
        "id": "yqTTzNvTX-k5"
      },
      "source": [
        "# The following lines fills the adjacency matrix by\n",
        "directions = list(itertools.product([0, 1, -1], [0, 1, -1]))\n",
        "for i in range(1, img.shape[0] - 1):\n",
        "    for j in range(1, img.shape[1] - 1):\n",
        "        if not img[i, j]:\n",
        "            continue\n",
        "\n",
        "        for y_diff, x_diff in directions:\n",
        "            if img[i + y_diff, j + x_diff]:\n",
        "                adjacency[to_index(i, j),\n",
        "                          to_index(i + y_diff, j + x_diff)] = True"
      ],
      "execution_count": 25,
      "outputs": []
    },
    {
      "cell_type": "code",
      "metadata": {
        "id": "WnizVBxzYD-3"
      },
      "source": [
        "# We chose two arbitrary points, which we know are connected\n",
        "source = to_index(14, 47)\n",
        "target = to_index(151, 122)"
      ],
      "execution_count": 26,
      "outputs": []
    },
    {
      "cell_type": "code",
      "metadata": {
        "id": "ppmbplfAYbsw"
      },
      "source": [
        "# Compute the shortest path between the source and all other points in the image\n",
        "_, predecessors = dijkstra(adjacency, directed=False, indices=[source],\n",
        "                           unweighted=True, return_predecessors=True)"
      ],
      "execution_count": 27,
      "outputs": []
    },
    {
      "cell_type": "code",
      "metadata": {
        "id": "0VFfXlMAYeIK"
      },
      "source": [
        "# Constructs the path between source and target\n",
        "pixel_index = target\n",
        "pixels_path = []\n",
        "while pixel_index != source:\n",
        "    pixels_path.append(pixel_index)\n",
        "    pixel_index = predecessors[0, pixel_index]"
      ],
      "execution_count": 28,
      "outputs": []
    },
    {
      "cell_type": "code",
      "metadata": {
        "id": "yrMPxWZmYgU0"
      },
      "source": [
        "# The following code is just for debugging and it visualizes the chosen path\n",
        "import matplotlib.pyplot as plt"
      ],
      "execution_count": 29,
      "outputs": []
    },
    {
      "cell_type": "code",
      "metadata": {
        "id": "UttKv191YiqD"
      },
      "source": [
        "for pixel_index in pixels_path:\n",
        "    i, j = to_coordinates(pixel_index)\n",
        "    original_img[i, j, 0] = original_img[i, j, 1] = 0"
      ],
      "execution_count": 30,
      "outputs": []
    },
    {
      "cell_type": "code",
      "metadata": {
        "id": "iAZHE1i2Yklq",
        "outputId": "fc396ebd-2558-432a-89b3-070ea0f5ee42",
        "colab": {
          "base_uri": "https://localhost:8080/",
          "height": 269
        }
      },
      "source": [
        "plt.imshow(original_img)\n",
        "plt.show()"
      ],
      "execution_count": 31,
      "outputs": [
        {
          "output_type": "display_data",
          "data": {
            "image/png": "[encoded data removed]",
            "text/plain": [
              "<Figure size 432x288 with 1 Axes>"
            ]
          },
          "metadata": {
            "tags": [],
            "needs_background": "light"
          }
        }
      ]
    },
    {
      "cell_type": "code",
      "metadata": {
        "id": "SGtA3dg_ZCnK"
      },
      "source": [
        ""
      ],
      "execution_count": null,
      "outputs": []
    }
  ]
}