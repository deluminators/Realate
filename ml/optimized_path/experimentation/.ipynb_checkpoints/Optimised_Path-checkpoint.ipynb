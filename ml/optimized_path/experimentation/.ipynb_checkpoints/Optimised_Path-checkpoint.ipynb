{
 "cells": [
  {
   "cell_type": "code",
   "execution_count": 1,
   "metadata": {
    "id": "aG9GL1weXDC9"
   },
   "outputs": [],
   "source": [
    "import itertools\n",
    "from scipy import misc\n",
    "import scipy.misc\n",
    "import imageio\n",
    "from scipy.sparse.dok import dok_matrix\n",
    "from scipy.sparse.csgraph import dijkstra"
   ]
  },
  {
   "cell_type": "code",
   "execution_count": 2,
   "metadata": {
    "id": "oaA_-IAVXHjs"
   },
   "outputs": [],
   "source": [
    "\n",
    "# Load the image from disk as a numpy ndarray\n",
    "original_img = imageio.imread('bY8cN.png')\n"
   ]
  },
  {
   "cell_type": "code",
   "execution_count": 3,
   "metadata": {
    "id": "BJDX4m1vXcVZ"
   },
   "outputs": [],
   "source": [
    "# Create a flat color image for graph building:\n",
    "img = original_img[:, :, 0] + original_img[:, :, 1] + original_img[:, :, 2]"
   ]
  },
  {
   "cell_type": "code",
   "execution_count": 4,
   "metadata": {
    "id": "Wt_f6yNYX322"
   },
   "outputs": [],
   "source": [
    "# Defines a translation from 2 coordinates to a single number\n",
    "def to_index(y, x):\n",
    "    return y * img.shape[1] + x"
   ]
  },
  {
   "cell_type": "code",
   "execution_count": 5,
   "metadata": {
    "id": "-I1cj4deX6SA"
   },
   "outputs": [],
   "source": [
    "\n",
    "# Defines a reversed translation from index to 2 coordinates\n",
    "def to_coordinates(index):\n",
    "    return index // img.shape[1], index % img.shape[1]"
   ]
  },
  {
   "cell_type": "code",
   "execution_count": 6,
   "metadata": {
    "id": "7exGToXLX8Yr"
   },
   "outputs": [],
   "source": [
    "# A sparse adjacency matrix.\n",
    "# Two pixels are adjacent in the graph if both are painted.\n",
    "adjacency = dok_matrix((img.shape[0] * img.shape[1],\n",
    "                        img.shape[0] * img.shape[1]), dtype=bool)"
   ]
  },
  {
   "cell_type": "code",
   "execution_count": 7,
   "metadata": {
    "id": "yqTTzNvTX-k5"
   },
   "outputs": [],
   "source": [
    "# The following lines fills the adjacency matrix by\n",
    "directions = list(itertools.product([0, 1, -1], [0, 1, -1]))\n",
    "for i in range(1, img.shape[0] - 1):\n",
    "    for j in range(1, img.shape[1] - 1):\n",
    "        if not img[i, j]:\n",
    "            continue\n",
    "\n",
    "        for y_diff, x_diff in directions:\n",
    "            if img[i + y_diff, j + x_diff]:\n",
    "                adjacency[to_index(i, j),\n",
    "                          to_index(i + y_diff, j + x_diff)] = True"
   ]
  },
  {
   "cell_type": "code",
   "execution_count": 8,
   "metadata": {
    "id": "WnizVBxzYD-3"
   },
   "outputs": [],
   "source": [
    "# We chose two arbitrary points, which we know are connected\n",
    "source = to_index(0, 47)\n",
    "target = to_index(15, 122)"
   ]
  },
  {
   "cell_type": "code",
   "execution_count": 9,
   "metadata": {
    "id": "ppmbplfAYbsw"
   },
   "outputs": [],
   "source": [
    "# Compute the shortest path between the source and all other points in the image\n",
    "_, predecessors = dijkstra(adjacency, directed=False, indices=[source],\n",
    "                           unweighted=True, return_predecessors=True)"
   ]
  },
  {
   "cell_type": "code",
   "execution_count": 10,
   "metadata": {
    "id": "0VFfXlMAYeIK"
   },
   "outputs": [],
   "source": [
    "# Constructs the path between source and target\n",
    "pixel_index = target\n",
    "pixels_path = []\n",
    "while pixel_index != source:\n",
    "    pixels_path.append(pixel_index)\n",
    "    pixel_index = predecessors[0, pixel_index]"
   ]
  },
  {
   "cell_type": "code",
   "execution_count": 11,
   "metadata": {
    "id": "yrMPxWZmYgU0"
   },
   "outputs": [],
   "source": [
    "# The following code is just for debugging and it visualizes the chosen path\n",
    "import matplotlib.pyplot as plt"
   ]
  },
  {
   "cell_type": "code",
   "execution_count": 12,
   "metadata": {
    "id": "UttKv191YiqD"
   },
   "outputs": [],
   "source": [
    "for pixel_index in pixels_path:\n",
    "    i, j = to_coordinates(pixel_index)\n",
    "    original_img[i, j, 0] = original_img[i, j, 1] = 0"
   ]
  },
  {
   "cell_type": "code",
   "execution_count": 13,
   "metadata": {
    "colab": {
     "base_uri": "https://localhost:8080/",
     "height": 269
    },
    "id": "iAZHE1i2Yklq",
    "outputId": "fc396ebd-2558-432a-89b3-070ea0f5ee42"
   },
   "outputs": [
    {
     "data": {
      "image/png": "[encoded data removed]",
      "text/plain": [
       "<Figure size 432x288 with 1 Axes>"
      ]
     },
     "metadata": {
      "needs_background": "light"
     },
     "output_type": "display_data"
    }
   ],
   "source": [
    "plt.imshow(original_img)\n",
    "plt.show()"
   ]
  },
  {
   "cell_type": "code",
   "execution_count": null,
   "metadata": {
    "id": "SGtA3dg_ZCnK"
   },
   "outputs": [],
   "source": []
  }
 ],
 "metadata": {
  "colab": {
   "name": "Optimised Path.ipynb",
   "provenance": []
  },
  "kernelspec": {
   "display_name": "Python 3 (ipykernel)",
   "language": "python",
   "name": "python3"
  },
  "language_info": {
   "codemirror_mode": {
    "name": "ipython",
    "version": 3
   },
   "file_extension": ".py",
   "mimetype": "text/x-python",
   "name": "python",
   "nbconvert_exporter": "python",
   "pygments_lexer": "ipython3",
   "version": "3.8.10"
  }
 },
 "nbformat": 4,
 "nbformat_minor": 1
}
